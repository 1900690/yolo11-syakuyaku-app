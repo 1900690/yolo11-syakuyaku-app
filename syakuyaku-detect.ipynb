{
  "nbformat": 4,
  "nbformat_minor": 0,
  "metadata": {
    "colab": {
      "provenance": [],
      "gpuType": "T4",
      "include_colab_link": true
    },
    "kernelspec": {
      "name": "python3",
      "display_name": "Python 3"
    },
    "language_info": {
      "name": "python"
    }
  },
  "cells": [
    {
      "cell_type": "markdown",
      "metadata": {
        "id": "view-in-github",
        "colab_type": "text"
      },
      "source": [
        "<a href=\"https://colab.research.google.com/github/1900690/yolo11-syakuyaku-app/blob/main/syakuyaku-detect.ipynb\" target=\"_parent\"><img src=\"https://colab.research.google.com/assets/colab-badge.svg\" alt=\"Open In Colab\"/></a>"
      ]
    },
    {
      "cell_type": "markdown",
      "source": [
        "#シャクヤク開花判定AI"
      ],
      "metadata": {
        "id": "0kAwItPyIqbj"
      }
    },
    {
      "cell_type": "code",
      "source": [
        "#@title 事前準備\n",
        "!pip -q install ultralytics\n",
        "!wget -q  https://github.com/1900690/yolo11-syakuyaku-app/releases/download/obj-best/all-best-obj-model.pt"
      ],
      "metadata": {
        "id": "cVHIKnRsm4VP",
        "outputId": "141bfab2-389b-47bc-a20c-88cc68dc4a4c",
        "colab": {
          "base_uri": "https://localhost:8080/"
        }
      },
      "execution_count": null,
      "outputs": [
        {
          "output_type": "stream",
          "name": "stdout",
          "text": [
            "\u001b[2K   \u001b[90m━━━━━━━━━━━━━━━━━━━━━━━━━━━━━━━━━━━━━━━━\u001b[0m \u001b[32m921.8/921.8 kB\u001b[0m \u001b[31m17.7 MB/s\u001b[0m eta \u001b[36m0:00:00\u001b[0m\n",
            "\u001b[2K   \u001b[90m━━━━━━━━━━━━━━━━━━━━━━━━━━━━━━━━━━━━━━━━\u001b[0m \u001b[32m363.4/363.4 MB\u001b[0m \u001b[31m3.9 MB/s\u001b[0m eta \u001b[36m0:00:00\u001b[0m\n",
            "\u001b[2K   \u001b[90m━━━━━━━━━━━━━━━━━━━━━━━━━━━━━━━━━━━━━━━━\u001b[0m \u001b[32m13.8/13.8 MB\u001b[0m \u001b[31m109.4 MB/s\u001b[0m eta \u001b[36m0:00:00\u001b[0m\n",
            "\u001b[2K   \u001b[90m━━━━━━━━━━━━━━━━━━━━━━━━━━━━━━━━━━━━━━━━\u001b[0m \u001b[32m24.6/24.6 MB\u001b[0m \u001b[31m89.0 MB/s\u001b[0m eta \u001b[36m0:00:00\u001b[0m\n",
            "\u001b[2K   \u001b[90m━━━━━━━━━━━━━━━━━━━━━━━━━━━━━━━━━━━━━━━━\u001b[0m \u001b[32m883.7/883.7 kB\u001b[0m \u001b[31m42.4 MB/s\u001b[0m eta \u001b[36m0:00:00\u001b[0m\n",
            "\u001b[2K   \u001b[90m━━━━━━━━━━━━━━━━━━━━━━━━━━━━━━━━━━━━━━━━\u001b[0m \u001b[32m664.8/664.8 MB\u001b[0m \u001b[31m2.9 MB/s\u001b[0m eta \u001b[36m0:00:00\u001b[0m\n",
            "\u001b[2K   \u001b[90m━━━━━━━━━━━━━━━━━━━━━━━━━━━━━━━━━━━━━━━━\u001b[0m \u001b[32m211.5/211.5 MB\u001b[0m \u001b[31m5.4 MB/s\u001b[0m eta \u001b[36m0:00:00\u001b[0m\n",
            "\u001b[2K   \u001b[90m━━━━━━━━━━━━━━━━━━━━━━━━━━━━━━━━━━━━━━━━\u001b[0m \u001b[32m56.3/56.3 MB\u001b[0m \u001b[31m13.1 MB/s\u001b[0m eta \u001b[36m0:00:00\u001b[0m\n",
            "\u001b[2K   \u001b[90m━━━━━━━━━━━━━━━━━━━━━━━━━━━━━━━━━━━━━━━━\u001b[0m \u001b[32m127.9/127.9 MB\u001b[0m \u001b[31m7.2 MB/s\u001b[0m eta \u001b[36m0:00:00\u001b[0m\n",
            "\u001b[2K   \u001b[90m━━━━━━━━━━━━━━━━━━━━━━━━━━━━━━━━━━━━━━━━\u001b[0m \u001b[32m207.5/207.5 MB\u001b[0m \u001b[31m6.3 MB/s\u001b[0m eta \u001b[36m0:00:00\u001b[0m\n",
            "\u001b[2K   \u001b[90m━━━━━━━━━━━━━━━━━━━━━━━━━━━━━━━━━━━━━━━━\u001b[0m \u001b[32m21.1/21.1 MB\u001b[0m \u001b[31m78.4 MB/s\u001b[0m eta \u001b[36m0:00:00\u001b[0m\n",
            "\u001b[?25h"
          ]
        }
      ]
    },
    {
      "cell_type": "code",
      "source": [
        "#@title 分析する画像をアップロードまたはサンプル画像で分析\n",
        "\n",
        "from google.colab import files\n",
        "import os\n",
        "import shutil\n",
        "\n",
        "サンプル画像を使用する = True # @param {type:\"boolean\"}\n",
        "\n",
        "if os.path.exists('/content/test/'):\n",
        "     shutil.rmtree('/content/test/')\n",
        "if not os.path.exists('/content/test/'):\n",
        "     os.makedirs('/content/test/')\n",
        "!cd '/content/test/'\n",
        "if サンプル画像を使用する == True:\n",
        "  !wget -q -P /content/test/ https://github.com/1900690/yolo11-syakuyaku-app/releases/download/img/NG.jpg\n",
        "  !wget -q -P /content/test/ https://github.com/1900690/yolo11-syakuyaku-app/releases/download/img/OK.jpg\n",
        "else:\n",
        "  uploaded_file = files.upload()\n",
        "  uploaded_file_name_count = next(iter(uploaded_file))"
      ],
      "metadata": {
        "id": "lwaxrWEFxdtZ"
      },
      "execution_count": 9,
      "outputs": []
    },
    {
      "cell_type": "markdown",
      "source": [
        "<p align=\"center\">\n",
        "  <img src=\"https://github.com/1900690/yolo11-syakuyaku-app/releases/download/img/NG.jpg?raw=1\"\n",
        "width=30%>\n",
        "<img src=\"https://github.com/1900690/yolo11-syakuyaku-app/releases/download/img/OK.jpg?raw=1\" width=30%>\n",
        "  <br>\n",
        "  シャクヤクのサンプル画像\n",
        "</p>"
      ],
      "metadata": {
        "id": "bwA9Tho3xyxI"
      }
    },
    {
      "cell_type": "code",
      "source": [
        "!cd '/content/'\n",
        "\n",
        "import ultralytics\n",
        "import shutil\n",
        "if os.path.exists('/content/runs/detect/predict'):\n",
        "    shutil.rmtree('/content/runs/detect/predict')\n",
        "!yolo predict model=/content/all-best-obj-model.pt source='/content/test/'"
      ],
      "metadata": {
        "id": "jaDqqSnBiMQa",
        "outputId": "b3ff0efb-511c-461c-d531-8b68f886ea63",
        "colab": {
          "base_uri": "https://localhost:8080/"
        }
      },
      "execution_count": null,
      "outputs": [
        {
          "output_type": "stream",
          "name": "stdout",
          "text": [
            "Ultralytics 8.3.79 🚀 Python-3.11.11 torch-2.5.1+cu124 CUDA:0 (Tesla T4, 15095MiB)\n",
            "YOLO11x summary (fused): 190 layers, 56,829,334 parameters, 0 gradients, 194.4 GFLOPs\n",
            "\n",
            "image 1/1 /content/OK.jpg: 640x480 1 OK, 81.8ms\n",
            "Speed: 2.9ms preprocess, 81.8ms inference, 137.0ms postprocess per image at shape (1, 3, 640, 480)\n",
            "Results saved to \u001b[1mruns/detect/predict\u001b[0m\n",
            "💡 Learn more at https://docs.ultralytics.com/modes/predict\n"
          ]
        }
      ]
    },
    {
      "cell_type": "code",
      "source": [
        "#@title 分析して画像を表示\n",
        "\n",
        "import ultralytics\n",
        "!yolo predict model=/content/all-best-obj-model.pt source='/content/OK.jpg'\n",
        "\n",
        "import cv2\n",
        "from ultralytics import solutions\n",
        "\n",
        "if サンプル画像を使用する == True:\n",
        "  cap = cv2.VideoCapture(\"/content/muscat_before.mp4\")\n",
        "else:\n",
        "  cap = cv2.VideoCapture(\"/content/\"+uploaded_file_name_count)\n",
        "\n",
        "assert cap.isOpened(), \"Error reading video file\"\n",
        "w, h, fps = (int(cap.get(x)) for x in (cv2.CAP_PROP_FRAME_WIDTH, cv2.CAP_PROP_FRAME_HEIGHT, cv2.CAP_PROP_FPS))\n",
        "\n",
        "# Define region points\n",
        "#ある線上を通り過ぎた数をカウントする場合\n",
        "region_points = [(int(w/2), 0), (int(w/2), h)]#真ん中を定義\n",
        "#ある範囲内に出入りした数をカウントする場合\n",
        "#region_points = [(0, 720), (1280, 720), (1280, 0), (0, 0)]  # For rectangle region counting\n",
        "# region_points = [(20, 400), (1080, 404), (1080, 360), (20, 360), (20, 400)]  # For polygon region counting\n",
        "\n",
        "# Video writer\n",
        "if ブドウのサンプル動画を使用する == True:\n",
        "  video_writer = cv2.VideoWriter(\"/content/muscat.avi\", cv2.VideoWriter_fourcc(*\"mp4v\"), fps, (w, h))\n",
        "  model_name=\"/content/grape.pt\"\n",
        "  if アップロードしたモデルを使用する == True:\n",
        "    model_name=\"/content/\"+uploaded_file_name_count_weignt\n",
        "else:\n",
        "  video_writer = cv2.VideoWriter(\"/content/\"+uploaded_file_name_count[:-4]+\".avi\", cv2.VideoWriter_fourcc(*\"mp4v\"), fps, (w, h))\n",
        "  model_name=\"/content/\"+uploaded_file_name_count_weignt\n",
        "\n",
        "# Init Object Counter\n",
        "counter = solutions.ObjectCounter(\n",
        "    #show=True,  # Display the output\n",
        "    region=region_points,  # Pass region points\n",
        "    model=model_name,  # model=\"yolo11n-obb.pt\" for object counting using YOLO11 OBB model.\n",
        "    #classes=[47],  # If you want to count specific classes i.e person and car with COCO pretrained model.\n",
        "    show_in=False,  # Display in counts\n",
        "    # show_out=True,  # Display out counts\n",
        "    # line_width=2,  # Adjust the line width for bounding boxes and text display\n",
        ")\n",
        "\n",
        "# Process video\n",
        "while cap.isOpened():\n",
        "    success, im0 = cap.read()\n",
        "    if not success:\n",
        "        #print(\"Video frame is empty or video processing has been successfully completed.\")\n",
        "        break\n",
        "    im0 = counter.count(im0)\n",
        "    video_writer.write(im0)\n",
        "\n",
        "cap.release()\n",
        "video_writer.release()\n",
        "cv2.destroyAllWindows()\n",
        "\n",
        "if ブドウのサンプル動画を使用する == True:\n",
        "  files.download(\"/content/muscat.avi\")\n",
        "else:\n",
        "  files.download(\"/content/\"+uploaded_file_name_count[:-4]+\".avi\")"
      ],
      "metadata": {
        "id": "Sw6G7myEfoGN"
      },
      "execution_count": null,
      "outputs": []
    },
    {
      "cell_type": "markdown",
      "source": [
        "<p align=\"center\">\n",
        "  <img src=\"https://github.com/1900690/yolo-traking/blob/main/images/muscut3D_after.png?raw=1\" width=30%>\n",
        "  <br>\n",
        "  果実数を検出後のブドウのサンプル動画\n",
        "</p>"
      ],
      "metadata": {
        "id": "PbECvA6L_Zhg"
      }
    }
  ]
}